{
 "cells": [
  {
   "cell_type": "code",
   "execution_count": null,
   "id": "df92d243",
   "metadata": {
    "vscode": {
     "languageId": "plaintext"
    }
   },
   "outputs": [],
   "source": [
    "!git clone https://github.com/henriksl/xcs224_project.git"
   ]
  },
  {
   "cell_type": "code",
   "execution_count": null,
   "id": "9c224ec7",
   "metadata": {
    "vscode": {
     "languageId": "plaintext"
    }
   },
   "outputs": [],
   "source": [
    "!pip install tqdm\n",
    "!pip install evaluate"
   ]
  },
  {
   "cell_type": "markdown",
   "id": "749c1336",
   "metadata": {},
   "source": [
    "Run different zero shot models and save results"
   ]
  },
  {
   "cell_type": "code",
   "execution_count": null,
   "id": "8e60dbf9",
   "metadata": {
    "vscode": {
     "languageId": "plaintext"
    }
   },
   "outputs": [],
   "source": [
    "!python xcs224_project/nli_zero_evaluate.py 0"
   ]
  },
  {
   "cell_type": "code",
   "execution_count": null,
   "id": "2b54b1da",
   "metadata": {
    "vscode": {
     "languageId": "plaintext"
    }
   },
   "outputs": [],
   "source": [
    "!python xcs224_project/nli_zero_evaluate.py 1"
   ]
  },
  {
   "cell_type": "code",
   "execution_count": null,
   "id": "18d15d35",
   "metadata": {
    "vscode": {
     "languageId": "plaintext"
    }
   },
   "outputs": [],
   "source": [
    "!python xcs224_project/nli_zero_evaluate.py 2"
   ]
  }
 ],
 "metadata": {
  "language_info": {
   "name": "python"
  }
 },
 "nbformat": 4,
 "nbformat_minor": 5
}

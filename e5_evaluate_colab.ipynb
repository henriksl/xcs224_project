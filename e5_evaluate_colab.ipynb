{
  "cells": [
    {
      "cell_type": "markdown",
      "metadata": {},
      "source": [
        "### Colab run of E5-multilingual models on MTEB classification tasks"
      ]
    },
    {
      "cell_type": "markdown",
      "metadata": {},
      "source": [
        "Clone project and install mtleb dependency"
      ]
    },
    {
      "cell_type": "code",
      "execution_count": null,
      "metadata": {
        "id": "0pznnrXZ4fYR"
      },
      "outputs": [],
      "source": [
        "!git clone https://github.com/henriksl/xcs224_project.git"
      ]
    },
    {
      "cell_type": "code",
      "execution_count": null,
      "metadata": {
        "id": "wNjjpwu1-wfu"
      },
      "outputs": [],
      "source": [
        "!pip install mteb[gritlm]"
      ]
    },
    {
      "cell_type": "markdown",
      "metadata": {},
      "source": [
        "Run small, base and large-instruct multilingual e5 models on selected MTEB tasks"
      ]
    },
    {
      "cell_type": "code",
      "execution_count": null,
      "metadata": {
        "id": "_pgVv_d05OeN"
      },
      "outputs": [],
      "source": [
        "!python xcs224_project/e5_evaluate.py 0"
      ]
    },
    {
      "cell_type": "code",
      "execution_count": null,
      "metadata": {
        "id": "fLu1jB4r-vJn"
      },
      "outputs": [],
      "source": [
        "!python xcs224_project/e5_evaluate.py 1"
      ]
    },
    {
      "cell_type": "code",
      "execution_count": null,
      "metadata": {
        "id": "HlzZMWW79PON"
      },
      "outputs": [],
      "source": [
        "!python xcs224_project/e5_evaluate.py 2"
      ]
    },
    {
      "cell_type": "markdown",
      "metadata": {},
      "source": [
        "Save results to zip so the results can be downloaded"
      ]
    },
    {
      "cell_type": "code",
      "execution_count": null,
      "metadata": {
        "id": "DvHkz27qGQ_U"
      },
      "outputs": [],
      "source": [
        "!zip -r results_large_new results/"
      ]
    },
    {
      "cell_type": "markdown",
      "metadata": {
        "id": "EmbU1Qy5RhsZ"
      },
      "source": []
    }
  ],
  "metadata": {
    "accelerator": "GPU",
    "colab": {
      "gpuType": "L4",
      "provenance": []
    },
    "kernelspec": {
      "display_name": "Python 3",
      "name": "python3"
    },
    "language_info": {
      "name": "python"
    }
  },
  "nbformat": 4,
  "nbformat_minor": 0
}
